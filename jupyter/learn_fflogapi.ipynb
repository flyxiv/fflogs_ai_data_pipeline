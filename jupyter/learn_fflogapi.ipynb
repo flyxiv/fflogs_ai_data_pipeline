{
 "cells": [
  {
   "cell_type": "markdown",
   "id": "c6939519-a1bb-4432-a606-6ab356b49582",
   "metadata": {},
   "source": [
    "# Import needed Libraries"
   ]
  },
  {
   "cell_type": "code",
   "execution_count": 1,
   "id": "001b4e17-d3d2-476d-af68-e5e1a46acde5",
   "metadata": {},
   "outputs": [],
   "source": [
    "import fflogsapi"
   ]
  },
  {
   "cell_type": "markdown",
   "id": "b759a3c1-e665-4c63-a9a9-8f183dfffc92",
   "metadata": {},
   "source": [
    "# Set Configurations"
   ]
  },
  {
   "cell_type": "code",
   "execution_count": 24,
   "id": "9272c323-9172-4fee-a95b-5e95ea8a16b7",
   "metadata": {},
   "outputs": [],
   "source": [
    "from pathlib import Path\n",
    "import yaml\n",
    "\n",
    "with open(os.path.join(os.getcwd(), 'config.yml'), 'r') as credentials_yml:\n",
    "    credentials = yaml.load(credentials_yml, Loader=yaml.FullLoader)\n",
    "    USERNAME = credentials['username']\n",
    "    KEY = credentials['key']\n",
    "    "
   ]
  },
  {
   "cell_type": "code",
   "execution_count": null,
   "id": "6db0d0a2-e0e4-49e1-b0c6-635d9219530b",
   "metadata": {},
   "outputs": [],
   "source": []
  },
  {
   "cell_type": "markdown",
   "id": "4befe880-b838-448e-b1ac-8bb8645231b1",
   "metadata": {},
   "source": [
    "# Load an Encounter Log using FFLogs API"
   ]
  },
  {
   "cell_type": "code",
   "execution_count": 48,
   "id": "157658b1-ee2a-49f7-8f97-72d902ff9ccb",
   "metadata": {},
   "outputs": [
    {
     "name": "stdout",
     "output_type": "stream",
     "text": [
      "9def7421-2acf-4c0c-a5ae-703496b90b0e\n"
     ]
    }
   ],
   "source": [
    "from fflogsapi import FFLogsClient\n",
    "\n",
    "print(USERNAME)\n",
    "\n",
    "client = FFLogsClient(USERNAME, KEY)\n",
    "report = client.get_report('GkTY1xjrcWq2JAQg')"
   ]
  },
  {
   "cell_type": "code",
   "execution_count": 49,
   "id": "b8e1af73-9884-4546-95a8-c0a839a967f3",
   "metadata": {},
   "outputs": [],
   "source": [
    "report\n",
    "kill_fights = [fight for fight in report if fight.standard_comp and fight.is_kill]\n"
   ]
  },
  {
   "cell_type": "code",
   "execution_count": 50,
   "id": "0e429707-965a-495a-b82b-bae99d69ff1c",
   "metadata": {},
   "outputs": [],
   "source": [
    "sample = kill_fights[0]"
   ]
  },
  {
   "cell_type": "code",
   "execution_count": 1,
   "id": "f1c572bf-cfe1-4cb2-a1e5-f6d04ab84d87",
   "metadata": {},
   "outputs": [
    {
     "ename": "SyntaxError",
     "evalue": "invalid syntax (1421991191.py, line 1)",
     "output_type": "error",
     "traceback": [
      "\u001b[1;36m  Cell \u001b[1;32mIn[1], line 1\u001b[1;36m\u001b[0m\n\u001b[1;33m    needed_events =\u001b[0m\n\u001b[1;37m                    ^\u001b[0m\n\u001b[1;31mSyntaxError\u001b[0m\u001b[1;31m:\u001b[0m invalid syntax\n"
     ]
    }
   ],
   "source": [
    "needed_events = \n",
    "for event in sample.events():\n",
    "    if event['type'] == 'cast':\n",
    "        print(event)"
   ]
  },
  {
   "cell_type": "code",
   "execution_count": 51,
   "id": "3021bf33-efdf-4d65-8e54-9c2149d228db",
   "metadata": {},
   "outputs": [
    {
     "name": "stdout",
     "output_type": "stream",
     "text": [
      "4\n",
      "FFJob(id=2, name='Bard', slug='Bard')\n",
      "3\n",
      "FFJob(id=5, name='Dragoon', slug='Dragoon')\n",
      "7\n",
      "FFJob(id=8, name='Ninja', slug='Ninja')\n",
      "2\n",
      "FFJob(id=21, name='Pictomancer', slug='Pictomancer')\n",
      "9\n",
      "FFJob(id=1, name='Astrologian', slug='Astrologian')\n",
      "6\n",
      "FFJob(id=10, name='Scholar', slug='Scholar')\n",
      "8\n",
      "FFJob(id=4, name='Dark Knight', slug='DarkKnight')\n",
      "5\n",
      "FFJob(id=12, name='Warrior', slug='Warrior')\n"
     ]
    }
   ],
   "source": [
    "for player_detail in sample.player_details():\n",
    "    print(player_detail.id)\n",
    "    print(player_detail.job)"
   ]
  },
  {
   "cell_type": "code",
   "execution_count": 47,
   "id": "bb9bad4b-e48a-4ceb-9592-8b9b3f951b88",
   "metadata": {},
   "outputs": [
    {
     "data": {
      "text/plain": [
       "{'timestamp': 85012,\n",
       " 'type': 'combatantinfo',\n",
       " 'fight': 1,\n",
       " 'sourceID': 3,\n",
       " 'gear': [],\n",
       " 'auras': [{'source': 3,\n",
       "   'ability': 1002513,\n",
       "   'stacks': 1,\n",
       "   'icon': '212000-212535.png',\n",
       "   'name': 'Formless Fist'},\n",
       "  {'source': 3,\n",
       "   'ability': 1000048,\n",
       "   'stacks': 1,\n",
       "   'icon': '216000-216202.png',\n",
       "   'name': 'Well Fed'},\n",
       "  {'source': 11,\n",
       "   'ability': 1001199,\n",
       "   'stacks': 1,\n",
       "   'icon': '213000-213908.png',\n",
       "   'name': 'Peloton'},\n",
       "  {'source': 10,\n",
       "   'ability': 1001891,\n",
       "   'stacks': 1,\n",
       "   'icon': '213000-213252.png',\n",
       "   'name': 'Horoscope Helios'},\n",
       "  {'source': 6,\n",
       "   'ability': 1000297,\n",
       "   'stacks': 1,\n",
       "   'icon': '212000-212801.png',\n",
       "   'name': 'Galvanize'}],\n",
       " 'level': 100,\n",
       " 'simulatedCrit': 0.6857142857142857,\n",
       " 'simulatedDirectHit': 0.17777777777777778,\n",
       " 'strength': 511,\n",
       " 'dexterity': 485,\n",
       " 'vitality': 510,\n",
       " 'intelligence': 231,\n",
       " 'mind': 413,\n",
       " 'piety': 440,\n",
       " 'attack': 511,\n",
       " 'directHit': 420,\n",
       " 'criticalHit': 462,\n",
       " 'attackMagicPotency': 231,\n",
       " 'healMagicPotency': 413,\n",
       " 'determination': 440,\n",
       " 'skillSpeed': 462,\n",
       " 'spellSpeed': 420,\n",
       " 'tenacity': 420}"
      ]
     },
     "execution_count": 47,
     "metadata": {},
     "output_type": "execute_result"
    }
   ],
   "source": [
    "sample.events()[0]"
   ]
  },
  {
   "cell_type": "code",
   "execution_count": null,
   "id": "de565ba9-aca0-4251-86ec-0aa06ef5673b",
   "metadata": {},
   "outputs": [],
   "source": []
  }
 ],
 "metadata": {
  "kernelspec": {
   "display_name": "Python 3 (ipykernel)",
   "language": "python",
   "name": "python3"
  },
  "language_info": {
   "codemirror_mode": {
    "name": "ipython",
    "version": 3
   },
   "file_extension": ".py",
   "mimetype": "text/x-python",
   "name": "python",
   "nbconvert_exporter": "python",
   "pygments_lexer": "ipython3",
   "version": "3.11.9"
  }
 },
 "nbformat": 4,
 "nbformat_minor": 5
}
